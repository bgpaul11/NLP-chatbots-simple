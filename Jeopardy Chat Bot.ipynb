{
 "cells": [
  {
   "cell_type": "markdown",
   "id": "6908c5ed",
   "metadata": {},
   "source": [
    "\n",
    "<img src=\"Jeopardy.jpg\" width=600 height=60o />\n",
    "\n",
    "## Context and References\n",
    "\n",
    "Dataset retrieved from: https://www.kaggle.com/datasets/tunguz/200000-jeopardy-questions?resource=download\n",
    "\n",
    "#### Context\n",
    "This is a dataset of 200,000+ Jeopardy! questions and answers. The dataset was constructed with show data from 12-31-2004 to 5-11-2006. Columns relevant to this project will be features question and answer.\n",
    "\n",
    "#### Attributes\n",
    "| Column     |Non-Null Count   |Dtype| \n",
    "| :-         | -:              | :-: |\n",
    "|Show Number |216930 non-null  |int64 | \n",
    "|Air Date    |216930 non-null  |object|\n",
    "|Round       |216930 non-null  |object|\n",
    "|Category    |216930 non-null  |object|\n",
    "|Value       |216930 non-null  |object|\n",
    "|Question    |216930 non-null  |object|\n",
    "|Answer      |216928 non-null  |object|\n",
    "\n",
    "\n",
    "#### Obective\n",
    "The goal of this project is to explore, clean, and modify the Jeopardy dataset to construct a simple chatbot based on questions and answers present in the dataset."
   ]
  },
  {
   "cell_type": "code",
   "execution_count": 1,
   "id": "2956c3b2",
   "metadata": {},
   "outputs": [],
   "source": [
    "import numpy as np\n",
    "import pandas as pd\n",
    "from sklearn.metrics.pairwise import cosine_similarity\n",
    "from sklearn.feature_extraction.text import CountVectorizer\n",
    "from sklearn.feature_extraction.text import TfidfTransformer\n",
    "import ast \n",
    "import matplotlib.pyplot as plt\n",
    "import seaborn as sns\n",
    "import re\n",
    "\n",
    "import warnings \n",
    "warnings.filterwarnings('ignore')\n",
    "\n",
    "pd.set_option('display.max_colwidth', None)"
   ]
  },
  {
   "cell_type": "code",
   "execution_count": 2,
   "id": "4817847f",
   "metadata": {},
   "outputs": [],
   "source": [
    "df_jep = pd.read_csv('JEOPARDY_CSV.csv/JEOPARDY_CSV.csv')"
   ]
  },
  {
   "cell_type": "code",
   "execution_count": 3,
   "id": "26db8c7d",
   "metadata": {},
   "outputs": [
    {
     "data": {
      "text/html": [
       "<div>\n",
       "<style scoped>\n",
       "    .dataframe tbody tr th:only-of-type {\n",
       "        vertical-align: middle;\n",
       "    }\n",
       "\n",
       "    .dataframe tbody tr th {\n",
       "        vertical-align: top;\n",
       "    }\n",
       "\n",
       "    .dataframe thead th {\n",
       "        text-align: right;\n",
       "    }\n",
       "</style>\n",
       "<table border=\"1\" class=\"dataframe\">\n",
       "  <thead>\n",
       "    <tr style=\"text-align: right;\">\n",
       "      <th></th>\n",
       "      <th>Show Number</th>\n",
       "      <th>Air Date</th>\n",
       "      <th>Round</th>\n",
       "      <th>Category</th>\n",
       "      <th>Value</th>\n",
       "      <th>Question</th>\n",
       "      <th>Answer</th>\n",
       "    </tr>\n",
       "  </thead>\n",
       "  <tbody>\n",
       "    <tr>\n",
       "      <th>0</th>\n",
       "      <td>4680</td>\n",
       "      <td>2004-12-31</td>\n",
       "      <td>Jeopardy!</td>\n",
       "      <td>HISTORY</td>\n",
       "      <td>$200</td>\n",
       "      <td>For the last 8 years of his life, Galileo was under house arrest for espousing this man's theory</td>\n",
       "      <td>Copernicus</td>\n",
       "    </tr>\n",
       "    <tr>\n",
       "      <th>1</th>\n",
       "      <td>4680</td>\n",
       "      <td>2004-12-31</td>\n",
       "      <td>Jeopardy!</td>\n",
       "      <td>ESPN's TOP 10 ALL-TIME ATHLETES</td>\n",
       "      <td>$200</td>\n",
       "      <td>No. 2: 1912 Olympian; football star at Carlisle Indian School; 6 MLB seasons with the Reds, Giants &amp; Braves</td>\n",
       "      <td>Jim Thorpe</td>\n",
       "    </tr>\n",
       "    <tr>\n",
       "      <th>2</th>\n",
       "      <td>4680</td>\n",
       "      <td>2004-12-31</td>\n",
       "      <td>Jeopardy!</td>\n",
       "      <td>EVERYBODY TALKS ABOUT IT...</td>\n",
       "      <td>$200</td>\n",
       "      <td>The city of Yuma in this state has a record average of 4,055 hours of sunshine each year</td>\n",
       "      <td>Arizona</td>\n",
       "    </tr>\n",
       "    <tr>\n",
       "      <th>3</th>\n",
       "      <td>4680</td>\n",
       "      <td>2004-12-31</td>\n",
       "      <td>Jeopardy!</td>\n",
       "      <td>THE COMPANY LINE</td>\n",
       "      <td>$200</td>\n",
       "      <td>In 1963, live on \"The Art Linkletter Show\", this company served its billionth burger</td>\n",
       "      <td>McDonald's</td>\n",
       "    </tr>\n",
       "    <tr>\n",
       "      <th>4</th>\n",
       "      <td>4680</td>\n",
       "      <td>2004-12-31</td>\n",
       "      <td>Jeopardy!</td>\n",
       "      <td>EPITAPHS &amp; TRIBUTES</td>\n",
       "      <td>$200</td>\n",
       "      <td>Signer of the Dec. of Indep., framer of the Constitution of Mass., second President of the United States</td>\n",
       "      <td>John Adams</td>\n",
       "    </tr>\n",
       "  </tbody>\n",
       "</table>\n",
       "</div>"
      ],
      "text/plain": [
       "   Show Number    Air Date      Round                         Category  Value  \\\n",
       "0         4680  2004-12-31  Jeopardy!                          HISTORY   $200   \n",
       "1         4680  2004-12-31  Jeopardy!  ESPN's TOP 10 ALL-TIME ATHLETES   $200   \n",
       "2         4680  2004-12-31  Jeopardy!      EVERYBODY TALKS ABOUT IT...   $200   \n",
       "3         4680  2004-12-31  Jeopardy!                 THE COMPANY LINE   $200   \n",
       "4         4680  2004-12-31  Jeopardy!              EPITAPHS & TRIBUTES   $200   \n",
       "\n",
       "                                                                                                      Question  \\\n",
       "0             For the last 8 years of his life, Galileo was under house arrest for espousing this man's theory   \n",
       "1  No. 2: 1912 Olympian; football star at Carlisle Indian School; 6 MLB seasons with the Reds, Giants & Braves   \n",
       "2                     The city of Yuma in this state has a record average of 4,055 hours of sunshine each year   \n",
       "3                         In 1963, live on \"The Art Linkletter Show\", this company served its billionth burger   \n",
       "4     Signer of the Dec. of Indep., framer of the Constitution of Mass., second President of the United States   \n",
       "\n",
       "       Answer  \n",
       "0  Copernicus  \n",
       "1  Jim Thorpe  \n",
       "2     Arizona  \n",
       "3  McDonald's  \n",
       "4  John Adams  "
      ]
     },
     "execution_count": 3,
     "metadata": {},
     "output_type": "execute_result"
    }
   ],
   "source": [
    "df_jep.head()"
   ]
  },
  {
   "cell_type": "code",
   "execution_count": 4,
   "id": "481644bb",
   "metadata": {},
   "outputs": [
    {
     "data": {
      "text/html": [
       "<div>\n",
       "<style scoped>\n",
       "    .dataframe tbody tr th:only-of-type {\n",
       "        vertical-align: middle;\n",
       "    }\n",
       "\n",
       "    .dataframe tbody tr th {\n",
       "        vertical-align: top;\n",
       "    }\n",
       "\n",
       "    .dataframe thead th {\n",
       "        text-align: right;\n",
       "    }\n",
       "</style>\n",
       "<table border=\"1\" class=\"dataframe\">\n",
       "  <thead>\n",
       "    <tr style=\"text-align: right;\">\n",
       "      <th></th>\n",
       "      <th>Show Number</th>\n",
       "      <th>Air Date</th>\n",
       "      <th>Round</th>\n",
       "      <th>Category</th>\n",
       "      <th>Value</th>\n",
       "      <th>Question</th>\n",
       "      <th>Answer</th>\n",
       "    </tr>\n",
       "  </thead>\n",
       "  <tbody>\n",
       "    <tr>\n",
       "      <th>216925</th>\n",
       "      <td>4999</td>\n",
       "      <td>2006-05-11</td>\n",
       "      <td>Double Jeopardy!</td>\n",
       "      <td>RIDDLE ME THIS</td>\n",
       "      <td>$2000</td>\n",
       "      <td>This Puccini opera turns on the solution to 3 riddles posed by the heroine</td>\n",
       "      <td>Turandot</td>\n",
       "    </tr>\n",
       "    <tr>\n",
       "      <th>216926</th>\n",
       "      <td>4999</td>\n",
       "      <td>2006-05-11</td>\n",
       "      <td>Double Jeopardy!</td>\n",
       "      <td>\"T\" BIRDS</td>\n",
       "      <td>$2000</td>\n",
       "      <td>In North America this term is properly applied to only 4 species that are crested, including the tufted</td>\n",
       "      <td>a titmouse</td>\n",
       "    </tr>\n",
       "    <tr>\n",
       "      <th>216927</th>\n",
       "      <td>4999</td>\n",
       "      <td>2006-05-11</td>\n",
       "      <td>Double Jeopardy!</td>\n",
       "      <td>AUTHORS IN THEIR YOUTH</td>\n",
       "      <td>$2000</td>\n",
       "      <td>In Penny Lane, where this \"Hellraiser\" grew up, the barber shaves another customer--then flays him alive!</td>\n",
       "      <td>Clive Barker</td>\n",
       "    </tr>\n",
       "    <tr>\n",
       "      <th>216928</th>\n",
       "      <td>4999</td>\n",
       "      <td>2006-05-11</td>\n",
       "      <td>Double Jeopardy!</td>\n",
       "      <td>QUOTATIONS</td>\n",
       "      <td>$2000</td>\n",
       "      <td>From Ft. Sill, Okla. he made the plea, Arizona is my land, my home, my father's land, to which I now ask to... return\"</td>\n",
       "      <td>Geronimo</td>\n",
       "    </tr>\n",
       "    <tr>\n",
       "      <th>216929</th>\n",
       "      <td>4999</td>\n",
       "      <td>2006-05-11</td>\n",
       "      <td>Final Jeopardy!</td>\n",
       "      <td>HISTORIC NAMES</td>\n",
       "      <td>None</td>\n",
       "      <td>A silent movie title includes the last name of this 18th c. statesman &amp; favorite of Catherine the Great</td>\n",
       "      <td>Grigori Alexandrovich Potemkin</td>\n",
       "    </tr>\n",
       "  </tbody>\n",
       "</table>\n",
       "</div>"
      ],
      "text/plain": [
       "        Show Number    Air Date             Round                Category  \\\n",
       "216925         4999  2006-05-11  Double Jeopardy!          RIDDLE ME THIS   \n",
       "216926         4999  2006-05-11  Double Jeopardy!               \"T\" BIRDS   \n",
       "216927         4999  2006-05-11  Double Jeopardy!  AUTHORS IN THEIR YOUTH   \n",
       "216928         4999  2006-05-11  Double Jeopardy!              QUOTATIONS   \n",
       "216929         4999  2006-05-11   Final Jeopardy!          HISTORIC NAMES   \n",
       "\n",
       "        Value  \\\n",
       "216925  $2000   \n",
       "216926  $2000   \n",
       "216927  $2000   \n",
       "216928  $2000   \n",
       "216929   None   \n",
       "\n",
       "                                                                                                                      Question  \\\n",
       "216925                                              This Puccini opera turns on the solution to 3 riddles posed by the heroine   \n",
       "216926                 In North America this term is properly applied to only 4 species that are crested, including the tufted   \n",
       "216927               In Penny Lane, where this \"Hellraiser\" grew up, the barber shaves another customer--then flays him alive!   \n",
       "216928  From Ft. Sill, Okla. he made the plea, Arizona is my land, my home, my father's land, to which I now ask to... return\"   \n",
       "216929                 A silent movie title includes the last name of this 18th c. statesman & favorite of Catherine the Great   \n",
       "\n",
       "                                Answer  \n",
       "216925                        Turandot  \n",
       "216926                      a titmouse  \n",
       "216927                    Clive Barker  \n",
       "216928                        Geronimo  \n",
       "216929  Grigori Alexandrovich Potemkin  "
      ]
     },
     "execution_count": 4,
     "metadata": {},
     "output_type": "execute_result"
    }
   ],
   "source": [
    "df_jep.tail()"
   ]
  },
  {
   "cell_type": "code",
   "execution_count": 5,
   "id": "5c3ba39a",
   "metadata": {
    "scrolled": false
   },
   "outputs": [
    {
     "data": {
      "text/plain": [
       "(216930, 7)"
      ]
     },
     "execution_count": 5,
     "metadata": {},
     "output_type": "execute_result"
    }
   ],
   "source": [
    "df_jep.shape"
   ]
  },
  {
   "cell_type": "code",
   "execution_count": 6,
   "id": "b4e31ba0",
   "metadata": {
    "scrolled": true
   },
   "outputs": [
    {
     "name": "stdout",
     "output_type": "stream",
     "text": [
      "<class 'pandas.core.frame.DataFrame'>\n",
      "RangeIndex: 216930 entries, 0 to 216929\n",
      "Data columns (total 7 columns):\n",
      " #   Column       Non-Null Count   Dtype \n",
      "---  ------       --------------   ----- \n",
      " 0   Show Number  216930 non-null  int64 \n",
      " 1    Air Date    216930 non-null  object\n",
      " 2    Round       216930 non-null  object\n",
      " 3    Category    216930 non-null  object\n",
      " 4    Value       216930 non-null  object\n",
      " 5    Question    216930 non-null  object\n",
      " 6    Answer      216928 non-null  object\n",
      "dtypes: int64(1), object(6)\n",
      "memory usage: 11.6+ MB\n"
     ]
    }
   ],
   "source": [
    "df_jep.info()"
   ]
  },
  {
   "cell_type": "code",
   "execution_count": 7,
   "id": "e86acd21",
   "metadata": {
    "scrolled": true
   },
   "outputs": [
    {
     "data": {
      "text/plain": [
       "Index(['Show Number', ' Air Date', ' Round', ' Category', ' Value',\n",
       "       ' Question', ' Answer'],\n",
       "      dtype='object')"
      ]
     },
     "execution_count": 7,
     "metadata": {},
     "output_type": "execute_result"
    }
   ],
   "source": [
    "df_jep.columns"
   ]
  },
  {
   "cell_type": "markdown",
   "id": "a0836661",
   "metadata": {},
   "source": [
    "### Data cleaning to remove extra spaces in column names"
   ]
  },
  {
   "cell_type": "code",
   "execution_count": 8,
   "id": "e9d47882",
   "metadata": {},
   "outputs": [],
   "source": [
    "df_jep.columns = df_jep.columns.str.replace(' ', '')"
   ]
  },
  {
   "cell_type": "markdown",
   "id": "2b1eec09",
   "metadata": {},
   "source": [
    "### Data cleaning to remove URL text contained in some column values"
   ]
  },
  {
   "cell_type": "code",
   "execution_count": 9,
   "id": "e3053ae6",
   "metadata": {},
   "outputs": [],
   "source": [
    "df_jep['Question'] = df_jep['Question'].str.replace('(.<a[^>]*[^>]*>)((?!<\\/a>))','')"
   ]
  },
  {
   "cell_type": "markdown",
   "id": "5f2450de",
   "metadata": {},
   "source": [
    "### Remove quotes from strings in columns"
   ]
  },
  {
   "cell_type": "code",
   "execution_count": 10,
   "id": "9295bce5",
   "metadata": {},
   "outputs": [],
   "source": [
    "#df_jep['Question'] = df_jep['Question'].str. replace(r,'')\n",
    "df_jep['Question'] = df_jep['Question'].map(lambda x: re.sub(r'(\"\")','',x))"
   ]
  },
  {
   "cell_type": "code",
   "execution_count": 11,
   "id": "79e653e0",
   "metadata": {},
   "outputs": [],
   "source": [
    "#df_jep['Answer'] = df_jep['Answer'].str. replace('\"','')"
   ]
  },
  {
   "cell_type": "code",
   "execution_count": 12,
   "id": "b6a085e7",
   "metadata": {},
   "outputs": [
    {
     "data": {
      "text/plain": [
       "<AxesSubplot:>"
      ]
     },
     "execution_count": 12,
     "metadata": {},
     "output_type": "execute_result"
    },
    {
     "data": {
      "image/png": "[encoded data removed]",
      "text/plain": [
       "<Figure size 432x288 with 2 Axes>"
      ]
     },
     "metadata": {
      "needs_background": "light"
     },
     "output_type": "display_data"
    }
   ],
   "source": [
    "sns.heatmap(df_jep.isnull())"
   ]
  },
  {
   "cell_type": "code",
   "execution_count": 13,
   "id": "50ff8d87",
   "metadata": {},
   "outputs": [
    {
     "data": {
      "text/plain": [
       "\"Sarah of the Clue Crew reports from in front of a statue in West Point, NY.</a>) West Point cadets struggling academically come to spinthese</a> on General Sedwig's spurs for better luck\""
      ]
     },
     "execution_count": 13,
     "metadata": {},
     "output_type": "execute_result"
    }
   ],
   "source": [
    "df_jep['Question'][216898]"
   ]
  },
  {
   "cell_type": "code",
   "execution_count": 14,
   "id": "a3977cfd",
   "metadata": {
    "scrolled": true
   },
   "outputs": [
    {
     "data": {
      "text/plain": [
       "BEFORE & AFTER        547\n",
       "SCIENCE               519\n",
       "LITERATURE            496\n",
       "AMERICAN HISTORY      418\n",
       "POTPOURRI             401\n",
       "                     ... \n",
       "1999 TELEVISION         1\n",
       "WORDS IN PHYSICS        1\n",
       "LITERATURE & MUSIC      1\n",
       "'90s NOTABLES           1\n",
       "CELEBRITY NAMES         1\n",
       "Name: Category, Length: 27995, dtype: int64"
      ]
     },
     "execution_count": 14,
     "metadata": {},
     "output_type": "execute_result"
    }
   ],
   "source": [
    "df_jep['Category'].value_counts()\n"
   ]
  },
  {
   "cell_type": "code",
   "execution_count": 15,
   "id": "f23d9634",
   "metadata": {},
   "outputs": [
    {
     "name": "stdout",
     "output_type": "stream",
     "text": [
      "Number of unique values in the Categories column:  27995\n"
     ]
    }
   ],
   "source": [
    "n = df_jep['Category'].nunique()\n",
    "print(\"Number of unique values in the Categories column: \", n)"
   ]
  },
  {
   "cell_type": "markdown",
   "id": "4330d329",
   "metadata": {},
   "source": [
    "### Construction of a list to hold question and answer values"
   ]
  },
  {
   "cell_type": "code",
   "execution_count": 16,
   "id": "a9218dcd",
   "metadata": {},
   "outputs": [],
   "source": [
    "#questions = list(df_jep['Question'])\n",
    "#answers = list(df_jep['Answer'])\n",
    "\n",
    "answers = list(df_jep['Question'].str.lower())\n",
    "questions = list(df_jep['Answer'].str.lower())"
   ]
  },
  {
   "cell_type": "code",
   "execution_count": 17,
   "id": "72ce6248",
   "metadata": {},
   "outputs": [],
   "source": [
    "DF_jep = pd.DataFrame(answers,questions)"
   ]
  },
  {
   "cell_type": "code",
   "execution_count": 18,
   "id": "a31f728a",
   "metadata": {},
   "outputs": [
    {
     "data": {
      "text/html": [
       "<div>\n",
       "<style scoped>\n",
       "    .dataframe tbody tr th:only-of-type {\n",
       "        vertical-align: middle;\n",
       "    }\n",
       "\n",
       "    .dataframe tbody tr th {\n",
       "        vertical-align: top;\n",
       "    }\n",
       "\n",
       "    .dataframe thead th {\n",
       "        text-align: right;\n",
       "    }\n",
       "</style>\n",
       "<table border=\"1\" class=\"dataframe\">\n",
       "  <thead>\n",
       "    <tr style=\"text-align: right;\">\n",
       "      <th></th>\n",
       "      <th>0</th>\n",
       "    </tr>\n",
       "  </thead>\n",
       "  <tbody>\n",
       "    <tr>\n",
       "      <th>copernicus</th>\n",
       "      <td>for the last 8 years of his life, galileo was under house arrest for espousing this man's theory</td>\n",
       "    </tr>\n",
       "    <tr>\n",
       "      <th>jim thorpe</th>\n",
       "      <td>no. 2: 1912 olympian; football star at carlisle indian school; 6 mlb seasons with the reds, giants &amp; braves</td>\n",
       "    </tr>\n",
       "    <tr>\n",
       "      <th>arizona</th>\n",
       "      <td>the city of yuma in this state has a record average of 4,055 hours of sunshine each year</td>\n",
       "    </tr>\n",
       "    <tr>\n",
       "      <th>mcdonald's</th>\n",
       "      <td>in 1963, live on \"the art linkletter show\", this company served its billionth burger</td>\n",
       "    </tr>\n",
       "    <tr>\n",
       "      <th>john adams</th>\n",
       "      <td>signer of the dec. of indep., framer of the constitution of mass., second president of the united states</td>\n",
       "    </tr>\n",
       "    <tr>\n",
       "      <th>the ant</th>\n",
       "      <td>in the title of an aesop fable, this insect shared billing with a grasshopper</td>\n",
       "    </tr>\n",
       "    <tr>\n",
       "      <th>the appian way</th>\n",
       "      <td>built in 312 b.c. to link rome &amp; the south of italy, it's still in use today</td>\n",
       "    </tr>\n",
       "    <tr>\n",
       "      <th>michael jordan</th>\n",
       "      <td>no. 8: 30 steals for the birmingham barons; 2,306 steals for the bulls</td>\n",
       "    </tr>\n",
       "    <tr>\n",
       "      <th>washington</th>\n",
       "      <td>in the winter of 1971-72, a record 1,122 inches of snow fell at rainier paradise ranger station in this state</td>\n",
       "    </tr>\n",
       "    <tr>\n",
       "      <th>crate &amp; barrel</th>\n",
       "      <td>this housewares store was named for the packaging its merchandise came in &amp; was first displayed on</td>\n",
       "    </tr>\n",
       "    <tr>\n",
       "      <th>jackie gleason</th>\n",
       "      <td>\"and away we go\"</td>\n",
       "    </tr>\n",
       "    <tr>\n",
       "      <th>the cud</th>\n",
       "      <td>cows regurgitate this from the first stomach to the mouth &amp; chew it again</td>\n",
       "    </tr>\n",
       "    <tr>\n",
       "      <th>ceylon (or sri lanka)</th>\n",
       "      <td>in 1000 rajaraja i of the cholas battled to take this indian ocean island now known for its tea</td>\n",
       "    </tr>\n",
       "    <tr>\n",
       "      <th>jim brown</th>\n",
       "      <td>no. 1: lettered in hoops, football &amp; lacrosse at syracuse &amp; if you think he couldn't act, ask his 11 \"unclean\" buddies</td>\n",
       "    </tr>\n",
       "    <tr>\n",
       "      <th>the uv index</th>\n",
       "      <td>on june 28, 1994 the nat'l weather service began issuing this index that rates the intensity of the sun's radiation</td>\n",
       "    </tr>\n",
       "    <tr>\n",
       "      <th>bulova</th>\n",
       "      <td>this company's accutron watch, introduced in 1960, had a guarantee of accuracy to within one minute a  month</td>\n",
       "    </tr>\n",
       "    <tr>\n",
       "      <th>jesse james</th>\n",
       "      <td>outlaw: \"murdered by a traitor and a coward whose name is not worthy to appear here\"</td>\n",
       "    </tr>\n",
       "    <tr>\n",
       "      <th>imp</th>\n",
       "      <td>a small demon, or a mischievous child (who might be a little demon!)</td>\n",
       "    </tr>\n",
       "    <tr>\n",
       "      <th>the international</th>\n",
       "      <td>karl led the first of these marxist organizational efforts; the second one began in 1889</td>\n",
       "    </tr>\n",
       "    <tr>\n",
       "      <th>(lou) gehrig</th>\n",
       "      <td>no. 10: fb/lb for columbia u. in the 1920s; mvp for the yankees in '27 &amp; '36; \"gibraltar in cleats\"</td>\n",
       "    </tr>\n",
       "  </tbody>\n",
       "</table>\n",
       "</div>"
      ],
      "text/plain": [
       "                                                                                                                                            0\n",
       "copernicus                                   for the last 8 years of his life, galileo was under house arrest for espousing this man's theory\n",
       "jim thorpe                        no. 2: 1912 olympian; football star at carlisle indian school; 6 mlb seasons with the reds, giants & braves\n",
       "arizona                                              the city of yuma in this state has a record average of 4,055 hours of sunshine each year\n",
       "mcdonald's                                               in 1963, live on \"the art linkletter show\", this company served its billionth burger\n",
       "john adams                           signer of the dec. of indep., framer of the constitution of mass., second president of the united states\n",
       "the ant                                                         in the title of an aesop fable, this insect shared billing with a grasshopper\n",
       "the appian way                                                   built in 312 b.c. to link rome & the south of italy, it's still in use today\n",
       "michael jordan                                                         no. 8: 30 steals for the birmingham barons; 2,306 steals for the bulls\n",
       "washington                      in the winter of 1971-72, a record 1,122 inches of snow fell at rainier paradise ranger station in this state\n",
       "crate & barrel                             this housewares store was named for the packaging its merchandise came in & was first displayed on\n",
       "jackie gleason                                                                                                               \"and away we go\"\n",
       "the cud                                                             cows regurgitate this from the first stomach to the mouth & chew it again\n",
       "ceylon (or sri lanka)                         in 1000 rajaraja i of the cholas battled to take this indian ocean island now known for its tea\n",
       "jim brown              no. 1: lettered in hoops, football & lacrosse at syracuse & if you think he couldn't act, ask his 11 \"unclean\" buddies\n",
       "the uv index              on june 28, 1994 the nat'l weather service began issuing this index that rates the intensity of the sun's radiation\n",
       "bulova                           this company's accutron watch, introduced in 1960, had a guarantee of accuracy to within one minute a  month\n",
       "jesse james                                              outlaw: \"murdered by a traitor and a coward whose name is not worthy to appear here\"\n",
       "imp                                                                      a small demon, or a mischievous child (who might be a little demon!)\n",
       "the international                                    karl led the first of these marxist organizational efforts; the second one began in 1889\n",
       "(lou) gehrig                              no. 10: fb/lb for columbia u. in the 1920s; mvp for the yankees in '27 & '36; \"gibraltar in cleats\""
      ]
     },
     "execution_count": 18,
     "metadata": {},
     "output_type": "execute_result"
    }
   ],
   "source": [
    "DF_jep.head(20)"
   ]
  },
  {
   "cell_type": "code",
   "execution_count": 19,
   "id": "625803f0",
   "metadata": {},
   "outputs": [
    {
     "data": {
      "text/plain": [
       "(216930, 1)"
      ]
     },
     "execution_count": 19,
     "metadata": {},
     "output_type": "execute_result"
    }
   ],
   "source": [
    "DF_jep.shape"
   ]
  },
  {
   "cell_type": "markdown",
   "id": "40acd3ad",
   "metadata": {},
   "source": [
    "### Tokenize the text and convert data in matrix format"
   ]
  },
  {
   "cell_type": "code",
   "execution_count": 20,
   "id": "1fba1041",
   "metadata": {},
   "outputs": [],
   "source": [
    "from sklearn.feature_extraction.text import CountVectorizer\n",
    "vectorizer = CountVectorizer(stop_words='english')\n",
    "X_vec = vectorizer.fit_transform(answers)"
   ]
  },
  {
   "cell_type": "code",
   "execution_count": 21,
   "id": "fcfb35e8",
   "metadata": {},
   "outputs": [],
   "source": [
    "tfidf = TfidfTransformer()\n",
    "X_tfidf = tfidf.fit_transform(X_vec)"
   ]
  },
  {
   "cell_type": "code",
   "execution_count": 22,
   "id": "5afab908",
   "metadata": {},
   "outputs": [
    {
     "data": {
      "text/plain": [
       "TfidfTransformer()"
      ]
     },
     "execution_count": 22,
     "metadata": {},
     "output_type": "execute_result"
    }
   ],
   "source": [
    "tfidf"
   ]
  },
  {
   "cell_type": "code",
   "execution_count": 23,
   "id": "8c2183f6",
   "metadata": {},
   "outputs": [
    {
     "data": {
      "text/plain": [
       "<216930x89799 sparse matrix of type '<class 'numpy.float64'>'\n",
       "\twith 1692108 stored elements in Compressed Sparse Row format>"
      ]
     },
     "execution_count": 23,
     "metadata": {},
     "output_type": "execute_result"
    }
   ],
   "source": [
    "X_tfidf"
   ]
  },
  {
   "cell_type": "code",
   "execution_count": 24,
   "id": "2ada1ba8",
   "metadata": {},
   "outputs": [],
   "source": [
    "def conversation(im):\n",
    "    global tfidf, questions, answers, X_tfidf\n",
    "    Y_vec = vectorizer.transform(im)\n",
    "    Y_tfidf = tfidf.fit_transform(Y_vec)\n",
    "    cos_sim = np.rad2deg(np.arccos(max(cosine_similarity(Y_tfidf, X_tfidf)[0])))\n",
    "    if cos_sim > 60 :\n",
    "        return \"sorry, I did not quite understand that\"\n",
    "    else:\n",
    "        return questions[np.argmax(cosine_similarity(Y_tfidf, X_tfidf)[0])]"
   ]
  },
  {
   "cell_type": "code",
   "execution_count": 25,
   "id": "0a07279f",
   "metadata": {},
   "outputs": [],
   "source": [
    "def main():\n",
    "    usr = input(\"Hello my name is Alex Trebek, What is your name: \")\n",
    "    print(\"Alex: Hi, welcome to JEOPARDY, what would you like to know?\")\n",
    "    while True:\n",
    "        im = input(\"{}: \".format(usr))\n",
    "        if im.lower() == 'bye':\n",
    "            print(\"Alex: bye!\")\n",
    "            break\n",
    "        else:\n",
    "            print(\"Alex: \"+conversation([im]))"
   ]
  },
  {
   "cell_type": "code",
   "execution_count": 26,
   "id": "13444887",
   "metadata": {},
   "outputs": [
    {
     "name": "stdout",
     "output_type": "stream",
     "text": [
      "Hello my name is Alex Trebek, What is your name: Brian\n",
      "Alex: Hi, welcome to JEOPARDY, what would you like to know?\n",
      "Brian: Jim Brown played for\n",
      "Alex: cleveland browns\n",
      "Brian: What is MI\n",
      "Alex: michigan\n",
      "Brian: Barack Obama from\n",
      "Alex: illinois\n",
      "Brian: pikachu\n",
      "Alex: pokémon\n",
      "Brian: Justin Timberlake\n",
      "Alex: 'n sync\n",
      "Brian: Donald Trump\n",
      "Alex: the apprentice\n",
      "Brian: Who is donald trump\n",
      "Alex: the apprentice\n",
      "Brian: The apprentice\n",
      "Alex: the sorcerer's apprentice\n",
      "Brian: What is the apprentice\n",
      "Alex: the sorcerer's apprentice\n",
      "Brian: deep learning\n",
      "Alex: dangerous thing\n",
      "Brian: machine learning\n",
      "Alex: florence\n",
      "Brian: Linkin park\n",
      "Alex: the '90s\n",
      "Brian: tocos\n",
      "Alex: sorry, I did not quite understand that\n",
      "Brian: tacos\n",
      "Alex: sorry, I did not quite understand that\n",
      "Brian: copernicus\n",
      "Alex: bologna\n",
      "Brian: for the last 8 years of his life, galileo was under house arrest for espousing this man's theory\n",
      "Alex: copernicus\n",
      "Brian: bye\n",
      "Alex: bye!\n"
     ]
    }
   ],
   "source": [
    "main()"
   ]
  },
  {
   "cell_type": "markdown",
   "id": "28673a95",
   "metadata": {},
   "source": [
    "# Summary and Conclusion\n",
    "\n",
    "- Overall the dataset contained a good level of content on various categories contained in different records but finding more relationship between subjects and answers would be an improvement  \n",
    "- With some additional cleaning and advanced techniques I would like to have the Chatbot find all references in the dataset related to the subject to provide the most acurate answer\n",
    "- Also addressing follow up questions would be nice as the current implementation is producing answers based on the first hit\n",
    "- Applying more NLP techniques should be applied to provide better responses"
   ]
  },
  {
   "cell_type": "code",
   "execution_count": null,
   "id": "21e839b1",
   "metadata": {},
   "outputs": [],
   "source": []
  }
 ],
 "metadata": {
  "kernelspec": {
   "display_name": "Python 3 (ipykernel)",
   "language": "python",
   "name": "python3"
  },
  "language_info": {
   "codemirror_mode": {
    "name": "ipython",
    "version": 3
   },
   "file_extension": ".py",
   "mimetype": "text/x-python",
   "name": "python",
   "nbconvert_exporter": "python",
   "pygments_lexer": "ipython3",
   "version": "3.9.7"
  }
 },
 "nbformat": 4,
 "nbformat_minor": 5
}
